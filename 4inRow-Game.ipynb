{
 "cells": [
  {
   "cell_type": "markdown",
   "metadata": {},
   "source": [
    "import numpy"
   ]
  },
  {
   "cell_type": "code",
   "execution_count": 1,
   "metadata": {},
   "outputs": [],
   "source": [
    "import numpy as np\n"
   ]
  },
  {
   "cell_type": "markdown",
   "metadata": {},
   "source": [
    "setting functions"
   ]
  },
  {
   "cell_type": "code",
   "execution_count": 2,
   "metadata": {},
   "outputs": [
    {
     "name": "stdout",
     "output_type": "stream",
     "text": [
      "[[0 0 0 0 0 0]\n",
      " [0 0 0 0 0 0]\n",
      " [0 0 0 0 0 0]\n",
      " [0 0 0 0 0 0]\n",
      " [0 0 0 0 0 0]\n",
      " [0 0 0 0 0 0]]\n",
      "\n",
      "\n",
      "[[0 0 0 0 0 0]\n",
      " [0 0 0 0 0 1]\n",
      " [0 0 0 0 0 0]\n",
      " [0 0 0 0 0 0]\n",
      " [0 0 0 0 0 0]\n",
      " [0 0 0 0 0 0]]\n",
      "\n",
      "\n",
      "[[0 0 0 0 0 0]\n",
      " [0 0 0 0 0 1]\n",
      " [0 0 0 0 0 1]\n",
      " [0 0 0 0 0 0]\n",
      " [0 0 0 0 0 0]\n",
      " [0 0 0 0 0 0]]\n",
      "\n",
      "\n",
      "[[0 0 0 0 0 0]\n",
      " [0 0 0 0 0 1]\n",
      " [0 0 0 0 0 1]\n",
      " [0 0 0 0 0 1]\n",
      " [0 0 0 0 0 0]\n",
      " [0 0 0 0 0 0]]\n",
      "\n",
      "\n",
      "[[0 0 0 0 0 0]\n",
      " [0 0 0 0 0 1]\n",
      " [0 0 0 0 0 1]\n",
      " [0 0 0 0 0 1]\n",
      " [0 0 0 0 0 1]\n",
      " [0 0 0 0 0 0]]\n",
      "\n",
      "\n",
      "[[0 0 0 0 0 0]\n",
      " [0 0 0 0 0 1]\n",
      " [0 0 0 0 1 1]\n",
      " [0 0 0 0 0 1]\n",
      " [0 0 0 0 0 1]\n",
      " [0 0 0 0 0 0]]\n",
      "\n",
      "\n",
      "[[0 0 0 0 0 0]\n",
      " [0 0 0 0 1 1]\n",
      " [0 0 0 0 1 1]\n",
      " [0 0 0 0 0 1]\n",
      " [0 0 0 0 0 1]\n",
      " [0 0 0 0 0 0]]\n"
     ]
    },
    {
     "ename": "ValueError",
     "evalue": "invalid literal for int() with base 10: ''",
     "output_type": "error",
     "traceback": [
      "\u001b[0;31m---------------------------------------------------------------------------\u001b[0m",
      "\u001b[0;31mValueError\u001b[0m                                Traceback (most recent call last)",
      "Cell \u001b[0;32mIn[2], line 23\u001b[0m\n\u001b[1;32m     21\u001b[0m \u001b[38;5;28;01mwhile\u001b[39;00m (status \u001b[38;5;241m==\u001b[39m \u001b[38;5;241m0\u001b[39m):\n\u001b[1;32m     22\u001b[0m     x \u001b[38;5;241m=\u001b[39m \u001b[38;5;241m1\u001b[39m\n\u001b[0;32m---> 23\u001b[0m     a \u001b[38;5;241m=\u001b[39m \u001b[38;5;28;43mint\u001b[39;49m\u001b[43m(\u001b[49m\u001b[38;5;28;43minput\u001b[39;49m\u001b[43m(\u001b[49m\u001b[38;5;124;43m\"\u001b[39;49m\u001b[38;5;124;43mp turn\u001b[39;49m\u001b[38;5;124;43m\"\u001b[39;49m\u001b[43m)\u001b[49m\u001b[43m)\u001b[49m\n\u001b[1;32m     24\u001b[0m     \u001b[38;5;66;03m# print (a)\u001b[39;00m\n\u001b[1;32m     26\u001b[0m     board \u001b[38;5;241m=\u001b[39m my_position(board, a)\n",
      "\u001b[0;31mValueError\u001b[0m: invalid literal for int() with base 10: ''"
     ]
    }
   ],
   "source": [
    "board = np.zeros((6,6), int)    # creat board with size of 6 by 6\n",
    "status = 0\n",
    "\n",
    "def my_position(board, a):  #inputs are board and given num from player\n",
    "    \n",
    "    if (board[a,5] == 0):\n",
    "        board[a,5] = x\n",
    "    elif(board[a,4] == 0):\n",
    "        board[a,4] = x\n",
    "    elif(board[a,3] == 0):\n",
    "        board[a,3] = x\n",
    "    elif(board[a,2] == 0):\n",
    "        board[a,2] = x\n",
    "    elif(board[a,1] == 0):\n",
    "        board[a,1] = x\n",
    "    elif(board[a,0] == 0):\n",
    "        board[a,0] = x\n",
    "    return board\n",
    "\n",
    "\n",
    "def status_check():\n",
    "    \n",
    "    for j in range (0,6):           # going to every row from 0 to 5 \n",
    "        for i in range (0,4):       # checking 4 elements in row\n",
    "            if (board[i,j] == board[i+1,j] == board[i+2,j] == board[i+3,j] == 1):\n",
    "        \n",
    "                if(board[i,j] == 1):\n",
    "                    status = 1\n",
    "                elif(board[1,j] == 2):\n",
    "                    status = 2\n",
    "        \n",
    "        for i in range (0,6):\n",
    "            for j in range (0,4):\n",
    "                if (board[i,j] == board[i,j+1] == board[i,j+2] == board[i,j+3] == 1):\n",
    "                    \n",
    "                    if(board[i,j] == 1):\n",
    "                        status = 1\n",
    "                    elif(board[1,j] == 2):\n",
    "                        status = 2\n",
    "    \n",
    "                    print(\"player %i wins\",status)\n",
    "\n",
    "\n",
    "\n",
    "\n",
    "\n",
    "\n",
    "print(board)    #print board for first time\n",
    "\n",
    "while (status == 0):\n",
    "    x = 1\n",
    "    a = int(input(\"p turn\"))\n",
    "    # print (a)\n",
    "\n",
    "    board = my_position(board, a)\n",
    "    print(\"\\n\")\n",
    "    print(board)\n",
    "    \n"
   ]
  }
 ],
 "metadata": {
  "kernelspec": {
   "display_name": "Python 3",
   "language": "python",
   "name": "python3"
  },
  "language_info": {
   "codemirror_mode": {
    "name": "ipython",
    "version": 3
   },
   "file_extension": ".py",
   "mimetype": "text/x-python",
   "name": "python",
   "nbconvert_exporter": "python",
   "pygments_lexer": "ipython3",
   "version": "3.12.2"
  }
 },
 "nbformat": 4,
 "nbformat_minor": 2
}
